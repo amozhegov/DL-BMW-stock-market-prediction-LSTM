{
  "nbformat": 4,
  "nbformat_minor": 0,
  "metadata": {
    "colab": {
      "provenance": []
    },
    "kernelspec": {
      "name": "python3",
      "display_name": "Python 3"
    },
    "language_info": {
      "name": "python"
    }
  },
  "cells": [
    {
      "cell_type": "markdown",
      "source": [
        "Dataset source: https://finance.yahoo.com/quote/BMW.DE/history?period1=847411200&period2=1687219200&interval=1d&filter=history&frequency=1d&includeAdjustedClose=true\n",
        "\n",
        "Article source: https://www.altumintelligence.com/articles/a/Time-Series-Prediction-Using-LSTM-Deep-Neural-Networks"
      ],
      "metadata": {
        "id": "CPj9PJgo4VPq"
      }
    },
    {
      "cell_type": "markdown",
      "source": [
        "# Importing libraries"
      ],
      "metadata": {
        "id": "VZqfijX9UYas"
      }
    },
    {
      "cell_type": "code",
      "execution_count": 149,
      "metadata": {
        "id": "0mpI6D0QlYVr"
      },
      "outputs": [],
      "source": [
        "import pandas as pd\n",
        "import tensorflow as tf\n",
        "import numpy as np\n",
        "import matplotlib.pyplot as plt\n",
        "import math\n",
        "from keras.callbacks import EarlyStopping"
      ]
    },
    {
      "cell_type": "markdown",
      "source": [
        "# Data Preprocessing"
      ],
      "metadata": {
        "id": "Xs5-yXdKUfD-"
      }
    },
    {
      "cell_type": "code",
      "source": [
        "ds = pd.read_csv('BMW.DE.csv')"
      ],
      "metadata": {
        "id": "hOSov6JEzQW3"
      },
      "execution_count": 150,
      "outputs": []
    },
    {
      "cell_type": "code",
      "source": [
        "ds.head(5)"
      ],
      "metadata": {
        "colab": {
          "base_uri": "https://localhost:8080/",
          "height": 206
        },
        "id": "7uoM0_5_zc_4",
        "outputId": "0f565e98-4f45-4f05-fb5b-cd8d0a60c7a5"
      },
      "execution_count": 151,
      "outputs": [
        {
          "output_type": "execute_result",
          "data": {
            "text/plain": [
              "         Date       Open       High        Low      Close  Adj Close  \\\n",
              "0  1996-11-08  18.209999  18.209999  18.171000  18.171000   8.601855   \n",
              "1  1996-11-11  18.190001  18.200001  18.082001  18.122000   8.578660   \n",
              "2  1996-11-12  18.160999  18.327999  18.091999  18.259001   8.643515   \n",
              "3  1996-11-13  18.344000  18.344000  18.190001  18.230000   8.629785   \n",
              "4  1996-11-14  18.205000  18.289000  18.132000  18.289000   8.657717   \n",
              "\n",
              "      Volume  \n",
              "0   767000.0  \n",
              "1   260000.0  \n",
              "2  1066000.0  \n",
              "3   793000.0  \n",
              "4   351000.0  "
            ],
            "text/html": [
              "\n",
              "  <div id=\"df-9b432259-f48a-44bd-8639-053f669e9c66\">\n",
              "    <div class=\"colab-df-container\">\n",
              "      <div>\n",
              "<style scoped>\n",
              "    .dataframe tbody tr th:only-of-type {\n",
              "        vertical-align: middle;\n",
              "    }\n",
              "\n",
              "    .dataframe tbody tr th {\n",
              "        vertical-align: top;\n",
              "    }\n",
              "\n",
              "    .dataframe thead th {\n",
              "        text-align: right;\n",
              "    }\n",
              "</style>\n",
              "<table border=\"1\" class=\"dataframe\">\n",
              "  <thead>\n",
              "    <tr style=\"text-align: right;\">\n",
              "      <th></th>\n",
              "      <th>Date</th>\n",
              "      <th>Open</th>\n",
              "      <th>High</th>\n",
              "      <th>Low</th>\n",
              "      <th>Close</th>\n",
              "      <th>Adj Close</th>\n",
              "      <th>Volume</th>\n",
              "    </tr>\n",
              "  </thead>\n",
              "  <tbody>\n",
              "    <tr>\n",
              "      <th>0</th>\n",
              "      <td>1996-11-08</td>\n",
              "      <td>18.209999</td>\n",
              "      <td>18.209999</td>\n",
              "      <td>18.171000</td>\n",
              "      <td>18.171000</td>\n",
              "      <td>8.601855</td>\n",
              "      <td>767000.0</td>\n",
              "    </tr>\n",
              "    <tr>\n",
              "      <th>1</th>\n",
              "      <td>1996-11-11</td>\n",
              "      <td>18.190001</td>\n",
              "      <td>18.200001</td>\n",
              "      <td>18.082001</td>\n",
              "      <td>18.122000</td>\n",
              "      <td>8.578660</td>\n",
              "      <td>260000.0</td>\n",
              "    </tr>\n",
              "    <tr>\n",
              "      <th>2</th>\n",
              "      <td>1996-11-12</td>\n",
              "      <td>18.160999</td>\n",
              "      <td>18.327999</td>\n",
              "      <td>18.091999</td>\n",
              "      <td>18.259001</td>\n",
              "      <td>8.643515</td>\n",
              "      <td>1066000.0</td>\n",
              "    </tr>\n",
              "    <tr>\n",
              "      <th>3</th>\n",
              "      <td>1996-11-13</td>\n",
              "      <td>18.344000</td>\n",
              "      <td>18.344000</td>\n",
              "      <td>18.190001</td>\n",
              "      <td>18.230000</td>\n",
              "      <td>8.629785</td>\n",
              "      <td>793000.0</td>\n",
              "    </tr>\n",
              "    <tr>\n",
              "      <th>4</th>\n",
              "      <td>1996-11-14</td>\n",
              "      <td>18.205000</td>\n",
              "      <td>18.289000</td>\n",
              "      <td>18.132000</td>\n",
              "      <td>18.289000</td>\n",
              "      <td>8.657717</td>\n",
              "      <td>351000.0</td>\n",
              "    </tr>\n",
              "  </tbody>\n",
              "</table>\n",
              "</div>\n",
              "      <button class=\"colab-df-convert\" onclick=\"convertToInteractive('df-9b432259-f48a-44bd-8639-053f669e9c66')\"\n",
              "              title=\"Convert this dataframe to an interactive table.\"\n",
              "              style=\"display:none;\">\n",
              "        \n",
              "  <svg xmlns=\"http://www.w3.org/2000/svg\" height=\"24px\"viewBox=\"0 0 24 24\"\n",
              "       width=\"24px\">\n",
              "    <path d=\"M0 0h24v24H0V0z\" fill=\"none\"/>\n",
              "    <path d=\"M18.56 5.44l.94 2.06.94-2.06 2.06-.94-2.06-.94-.94-2.06-.94 2.06-2.06.94zm-11 1L8.5 8.5l.94-2.06 2.06-.94-2.06-.94L8.5 2.5l-.94 2.06-2.06.94zm10 10l.94 2.06.94-2.06 2.06-.94-2.06-.94-.94-2.06-.94 2.06-2.06.94z\"/><path d=\"M17.41 7.96l-1.37-1.37c-.4-.4-.92-.59-1.43-.59-.52 0-1.04.2-1.43.59L10.3 9.45l-7.72 7.72c-.78.78-.78 2.05 0 2.83L4 21.41c.39.39.9.59 1.41.59.51 0 1.02-.2 1.41-.59l7.78-7.78 2.81-2.81c.8-.78.8-2.07 0-2.86zM5.41 20L4 18.59l7.72-7.72 1.47 1.35L5.41 20z\"/>\n",
              "  </svg>\n",
              "      </button>\n",
              "      \n",
              "  <style>\n",
              "    .colab-df-container {\n",
              "      display:flex;\n",
              "      flex-wrap:wrap;\n",
              "      gap: 12px;\n",
              "    }\n",
              "\n",
              "    .colab-df-convert {\n",
              "      background-color: #E8F0FE;\n",
              "      border: none;\n",
              "      border-radius: 50%;\n",
              "      cursor: pointer;\n",
              "      display: none;\n",
              "      fill: #1967D2;\n",
              "      height: 32px;\n",
              "      padding: 0 0 0 0;\n",
              "      width: 32px;\n",
              "    }\n",
              "\n",
              "    .colab-df-convert:hover {\n",
              "      background-color: #E2EBFA;\n",
              "      box-shadow: 0px 1px 2px rgba(60, 64, 67, 0.3), 0px 1px 3px 1px rgba(60, 64, 67, 0.15);\n",
              "      fill: #174EA6;\n",
              "    }\n",
              "\n",
              "    [theme=dark] .colab-df-convert {\n",
              "      background-color: #3B4455;\n",
              "      fill: #D2E3FC;\n",
              "    }\n",
              "\n",
              "    [theme=dark] .colab-df-convert:hover {\n",
              "      background-color: #434B5C;\n",
              "      box-shadow: 0px 1px 3px 1px rgba(0, 0, 0, 0.15);\n",
              "      filter: drop-shadow(0px 1px 2px rgba(0, 0, 0, 0.3));\n",
              "      fill: #FFFFFF;\n",
              "    }\n",
              "  </style>\n",
              "\n",
              "      <script>\n",
              "        const buttonEl =\n",
              "          document.querySelector('#df-9b432259-f48a-44bd-8639-053f669e9c66 button.colab-df-convert');\n",
              "        buttonEl.style.display =\n",
              "          google.colab.kernel.accessAllowed ? 'block' : 'none';\n",
              "\n",
              "        async function convertToInteractive(key) {\n",
              "          const element = document.querySelector('#df-9b432259-f48a-44bd-8639-053f669e9c66');\n",
              "          const dataTable =\n",
              "            await google.colab.kernel.invokeFunction('convertToInteractive',\n",
              "                                                     [key], {});\n",
              "          if (!dataTable) return;\n",
              "\n",
              "          const docLinkHtml = 'Like what you see? Visit the ' +\n",
              "            '<a target=\"_blank\" href=https://colab.research.google.com/notebooks/data_table.ipynb>data table notebook</a>'\n",
              "            + ' to learn more about interactive tables.';\n",
              "          element.innerHTML = '';\n",
              "          dataTable['output_type'] = 'display_data';\n",
              "          await google.colab.output.renderOutput(dataTable, element);\n",
              "          const docLink = document.createElement('div');\n",
              "          docLink.innerHTML = docLinkHtml;\n",
              "          element.appendChild(docLink);\n",
              "        }\n",
              "      </script>\n",
              "    </div>\n",
              "  </div>\n",
              "  "
            ]
          },
          "metadata": {},
          "execution_count": 151
        }
      ]
    },
    {
      "cell_type": "code",
      "source": [
        "print(ds.shape)"
      ],
      "metadata": {
        "colab": {
          "base_uri": "https://localhost:8080/"
        },
        "id": "5xAe9s5jAuyl",
        "outputId": "8e97d0f7-c102-45ad-a32f-0ef61342d72e"
      },
      "execution_count": 152,
      "outputs": [
        {
          "output_type": "stream",
          "name": "stdout",
          "text": [
            "(6821, 7)\n"
          ]
        }
      ]
    },
    {
      "cell_type": "code",
      "source": [
        "print(ds.columns)"
      ],
      "metadata": {
        "colab": {
          "base_uri": "https://localhost:8080/"
        },
        "id": "ODVQe364BHAm",
        "outputId": "91570d5a-db77-48c3-fecd-e29a19ad9830"
      },
      "execution_count": 153,
      "outputs": [
        {
          "output_type": "stream",
          "name": "stdout",
          "text": [
            "Index(['Date', 'Open', 'High', 'Low', 'Close', 'Adj Close', 'Volume'], dtype='object')\n"
          ]
        }
      ]
    },
    {
      "cell_type": "code",
      "source": [
        "print(ds['Date'])"
      ],
      "metadata": {
        "colab": {
          "base_uri": "https://localhost:8080/"
        },
        "id": "fkU2nkyECan9",
        "outputId": "2721a0e1-5ed3-43b1-ec30-466bd164bcf1"
      },
      "execution_count": 154,
      "outputs": [
        {
          "output_type": "stream",
          "name": "stdout",
          "text": [
            "0       1996-11-08\n",
            "1       1996-11-11\n",
            "2       1996-11-12\n",
            "3       1996-11-13\n",
            "4       1996-11-14\n",
            "           ...    \n",
            "6816    2023-06-13\n",
            "6817    2023-06-14\n",
            "6818    2023-06-15\n",
            "6819    2023-06-16\n",
            "6820    2023-06-19\n",
            "Name: Date, Length: 6821, dtype: object\n"
          ]
        }
      ]
    },
    {
      "cell_type": "markdown",
      "source": [
        "# Data Splitting"
      ],
      "metadata": {
        "id": "0vMqZ5VrX-p7"
      }
    },
    {
      "cell_type": "code",
      "source": [
        "# Split Dataset 80/20 for train/test\n",
        "train_test_split = int(len(ds) * 0.8)\n",
        "columns = ['Close', 'Volume']\n",
        "ds_train = ds.get(columns).values[:train_test_split]\n",
        "ds_test = ds.get(columns).values[train_test_split:]\n",
        "print(len(ds), len(ds_train), len(ds_test))"
      ],
      "metadata": {
        "colab": {
          "base_uri": "https://localhost:8080/"
        },
        "id": "AscXFOmcKLVO",
        "outputId": "7930d28e-d05a-4919-8b5e-978267e953fb"
      },
      "execution_count": 155,
      "outputs": [
        {
          "output_type": "stream",
          "name": "stdout",
          "text": [
            "6821 5456 1365\n"
          ]
        }
      ]
    },
    {
      "cell_type": "markdown",
      "source": [
        "5456 train samples\n",
        "\n",
        "1365 test samples"
      ],
      "metadata": {
        "id": "ePbQQ_ykT1yg"
      }
    },
    {
      "cell_type": "code",
      "source": [
        "ds_train.shape"
      ],
      "metadata": {
        "colab": {
          "base_uri": "https://localhost:8080/"
        },
        "id": "816Jyg9JUvDw",
        "outputId": "123beefc-e8fd-4cd2-9c50-540681980380"
      },
      "execution_count": 156,
      "outputs": [
        {
          "output_type": "execute_result",
          "data": {
            "text/plain": [
              "(5456, 2)"
            ]
          },
          "metadata": {},
          "execution_count": 156
        }
      ]
    },
    {
      "cell_type": "code",
      "source": [
        "ds_test.shape"
      ],
      "metadata": {
        "colab": {
          "base_uri": "https://localhost:8080/"
        },
        "id": "3nm3fa8eUxPv",
        "outputId": "282a4040-53fa-45e4-8f5a-f25a32c77bf3"
      },
      "execution_count": 157,
      "outputs": [
        {
          "output_type": "execute_result",
          "data": {
            "text/plain": [
              "(1365, 2)"
            ]
          },
          "metadata": {},
          "execution_count": 157
        }
      ]
    },
    {
      "cell_type": "markdown",
      "source": [
        "# Model Training"
      ],
      "metadata": {
        "id": "qf_js-pBYa98"
      }
    },
    {
      "cell_type": "code",
      "source": [
        "# 50 elements = 49 + 1 (element to predict)\n",
        "sequence_len = 50\n",
        "input_dim = 2\n",
        "batch_size = 32\n",
        "epochs = 2"
      ],
      "metadata": {
        "id": "fty-8pHHWXqE"
      },
      "execution_count": 158,
      "outputs": []
    },
    {
      "cell_type": "markdown",
      "source": [
        "# Neural Network Composition:\n",
        "\n",
        "First layer:\n",
        "1. LSTM\n",
        "2. 100 neurons\n",
        "3. input_timesteps = 49\n",
        "4. input_dim = 2\n",
        "5. return_seq = True\n",
        "\n",
        "Second Layer:\n",
        "1. Dropout\n",
        "2. rate = 0.2\n",
        "\n",
        "Third Layer:\n",
        "1. LSTM\n",
        "2. 100 neurons\n",
        "3. return_seq = True\n",
        "\n",
        "Fourth Layer:\n",
        "1. LSTM\n",
        "2. 100 neurons\n",
        "3. return_seq = False\n",
        "\n",
        "Fifth Layer:\n",
        "1. Dropout\n",
        "2. rate = 0.2\n",
        "\n",
        "Sixth Layer:\n",
        "1. Dense\n",
        "2. 1 neuron\n",
        "3. activation = linear\n",
        "\n",
        "\n"
      ],
      "metadata": {
        "id": "G4UqSZSZYpjJ"
      }
    },
    {
      "cell_type": "code",
      "source": [
        "model = tf.keras.Sequential([\n",
        "    tf.keras.layers.LSTM(100, input_shape=(sequence_len-1, input_dim), return_sequences=True),\n",
        "    # Dropout to prevent overfitting and improve the generalization of the model\n",
        "    tf.keras.layers.Dropout(0.2),\n",
        "    tf.keras.layers.LSTM(100, return_sequences=True),\n",
        "    tf.keras.layers.LSTM(100, return_sequences=False),\n",
        "    tf.keras.layers.Dropout(0.2),\n",
        "    tf.keras.layers.Dense(1, activation='linear')\n",
        "])"
      ],
      "metadata": {
        "id": "gEaTWMhtXxo5"
      },
      "execution_count": 159,
      "outputs": []
    },
    {
      "cell_type": "code",
      "source": [
        "model.summary()"
      ],
      "metadata": {
        "colab": {
          "base_uri": "https://localhost:8080/"
        },
        "id": "mVJHyi0-c39V",
        "outputId": "782f33ef-c6de-449c-cb6b-fcf904b06168"
      },
      "execution_count": 160,
      "outputs": [
        {
          "output_type": "stream",
          "name": "stdout",
          "text": [
            "Model: \"sequential_4\"\n",
            "_________________________________________________________________\n",
            " Layer (type)                Output Shape              Param #   \n",
            "=================================================================\n",
            " lstm_12 (LSTM)              (None, 49, 100)           41200     \n",
            "                                                                 \n",
            " dropout_8 (Dropout)         (None, 49, 100)           0         \n",
            "                                                                 \n",
            " lstm_13 (LSTM)              (None, 49, 100)           80400     \n",
            "                                                                 \n",
            " lstm_14 (LSTM)              (None, 100)               80400     \n",
            "                                                                 \n",
            " dropout_9 (Dropout)         (None, 100)               0         \n",
            "                                                                 \n",
            " dense_4 (Dense)             (None, 1)                 101       \n",
            "                                                                 \n",
            "=================================================================\n",
            "Total params: 202,101\n",
            "Trainable params: 202,101\n",
            "Non-trainable params: 0\n",
            "_________________________________________________________________\n"
          ]
        }
      ]
    },
    {
      "cell_type": "code",
      "source": [
        "tf.keras.utils.plot_model(model, show_shapes=True)"
      ],
      "metadata": {
        "colab": {
          "base_uri": "https://localhost:8080/",
          "height": 754
        },
        "id": "z98PHZ87fNly",
        "outputId": "b570b3a6-6ecc-4e41-8de5-e0bcdb69f880"
      },
      "execution_count": 161,
      "outputs": [
        {
          "output_type": "execute_result",
          "data": {
            "image/png": "[encoded data removed]",
            "text/plain": [
              "<IPython.core.display.Image object>"
            ]
          },
          "metadata": {},
          "execution_count": 161
        }
      ]
    },
    {
      "cell_type": "code",
      "source": [
        "# Model Compilation\n",
        "model.compile(optimizer='adam',\n",
        "              loss=tf.keras.losses.MeanSquaredError(),\n",
        "              metrics=['accuracy'])"
      ],
      "metadata": {
        "id": "5aba9DLWf8RZ"
      },
      "execution_count": 162,
      "outputs": []
    },
    {
      "cell_type": "code",
      "source": [
        "model.compile(optimizer='adam',\n",
        "              loss='mse')"
      ],
      "metadata": {
        "id": "pGlwzIr7zPJ0"
      },
      "execution_count": 163,
      "outputs": []
    },
    {
      "cell_type": "code",
      "source": [
        "model.compile(optimizer='adam',\n",
        "              loss='mse',\n",
        "              metrics=['accuracy'])"
      ],
      "metadata": {
        "id": "v4O-Fge8zUiC"
      },
      "execution_count": 164,
      "outputs": []
    },
    {
      "cell_type": "code",
      "source": [
        "def normalize_window(window_data, single_window=False):\n",
        "  # Window normalization with a base value of zero\n",
        "  normalized_data = []\n",
        "  window_data = [window_data] if single_window else window_data\n",
        "  for window in window_data:\n",
        "    normalized_window = []\n",
        "    for column_i in range(window.shape[1]):\n",
        "      normalized_col = [((float(p) / float(window[0, column_i])) - 1) for p in window[:, column_i]]\n",
        "      normalized_window.append(normalized_col)\n",
        "    normalized_window = np.array(normalized_window)\n",
        "    normalized_data.append(normalized_window)\n",
        "  return np.array(normalized_data)"
      ],
      "metadata": {
        "id": "yUIVRlpIEX7W"
      },
      "execution_count": 165,
      "outputs": []
    },
    {
      "cell_type": "code",
      "source": [
        "def next_window(i, sequence_len, normalize):\n",
        "  window = ds_train[i:i+sequence_len]\n",
        "  window = normalize_window(window, single_window=True)[0] if normalize else window\n",
        "  x = window[:-1]\n",
        "  y = window[-1, [0]]\n",
        "  return x, y"
      ],
      "metadata": {
        "id": "_rgSGpXWIgo4"
      },
      "execution_count": 166,
      "outputs": []
    },
    {
      "cell_type": "code",
      "source": [
        "def get_train_data(sequence_len, normalize):\n",
        "  # Creates x, y train_data windows\n",
        "  data_x = []\n",
        "  data_y = []\n",
        "  for i in range(len(ds_train) - sequence_len + 1):\n",
        "    x, y = next_window(i, sequence_len, normalize)\n",
        "    data_x.append(x)\n",
        "    data_y.append(y)\n",
        "  return np.array(data_x), np.array(data_y)"
      ],
      "metadata": {
        "id": "Jkf_kGPhLNaN"
      },
      "execution_count": 167,
      "outputs": []
    },
    {
      "cell_type": "code",
      "source": [
        "x, y = get_train_data(\n",
        "    sequence_len=sequence_len,\n",
        "    normalize=False\n",
        ")"
      ],
      "metadata": {
        "id": "s32FDK7lPrRV"
      },
      "execution_count": 168,
      "outputs": []
    },
    {
      "cell_type": "code",
      "source": [
        "print(x)"
      ],
      "metadata": {
        "colab": {
          "base_uri": "https://localhost:8080/"
        },
        "id": "pCZZiyTHQjjb",
        "outputId": "63827541-4a38-4bd2-a159-403992003a70"
      },
      "execution_count": 169,
      "outputs": [
        {
          "output_type": "stream",
          "name": "stdout",
          "text": [
            "[[[1.8171000e+01 7.6700000e+05]\n",
            "  [1.8122000e+01 2.6000000e+05]\n",
            "  [1.8259001e+01 1.0660000e+06]\n",
            "  ...\n",
            "  [2.1218000e+01 6.5000000e+05]\n",
            "  [2.1927000e+01 1.0400000e+06]\n",
            "  [2.1514000e+01 7.5400000e+05]]\n",
            "\n",
            " [[1.8122000e+01 2.6000000e+05]\n",
            "  [1.8259001e+01 1.0660000e+06]\n",
            "  [1.8230000e+01 7.9300000e+05]\n",
            "  ...\n",
            "  [2.1927000e+01 1.0400000e+06]\n",
            "  [2.1514000e+01 7.5400000e+05]\n",
            "  [2.1266001e+01 3.5100000e+05]]\n",
            "\n",
            " [[1.8259001e+01 1.0660000e+06]\n",
            "  [1.8230000e+01 7.9300000e+05]\n",
            "  [1.8289000e+01 3.5100000e+05]\n",
            "  ...\n",
            "  [2.1514000e+01 7.5400000e+05]\n",
            "  [2.1266001e+01 3.5100000e+05]\n",
            "  [2.1612000e+01 1.3130000e+06]]\n",
            "\n",
            " ...\n",
            "\n",
            " [[8.5330002e+01 1.1068800e+06]\n",
            "  [8.4930000e+01 1.1845400e+06]\n",
            "  [8.5180000e+01 1.3763550e+06]\n",
            "  ...\n",
            "  [9.4349998e+01 1.7495760e+06]\n",
            "  [9.3250000e+01 2.7049830e+06]\n",
            "  [9.3830002e+01 1.4760050e+06]]\n",
            "\n",
            " [[8.4930000e+01 1.1845400e+06]\n",
            "  [8.5180000e+01 1.3763550e+06]\n",
            "  [8.6779999e+01 2.2353390e+06]\n",
            "  ...\n",
            "  [9.3250000e+01 2.7049830e+06]\n",
            "  [9.3830002e+01 1.4760050e+06]\n",
            "  [9.3540001e+01 1.1657110e+06]]\n",
            "\n",
            " [[8.5180000e+01 1.3763550e+06]\n",
            "  [8.6779999e+01 2.2353390e+06]\n",
            "  [8.6580002e+01 1.3782240e+06]\n",
            "  ...\n",
            "  [9.3830002e+01 1.4760050e+06]\n",
            "  [9.3540001e+01 1.1657110e+06]\n",
            "  [9.2639999e+01 2.0468510e+06]]]\n"
          ]
        }
      ]
    },
    {
      "cell_type": "code",
      "source": [
        "print(x.shape)"
      ],
      "metadata": {
        "colab": {
          "base_uri": "https://localhost:8080/"
        },
        "id": "nfwwvRymQvdG",
        "outputId": "77f3eb14-1d7f-44b7-c611-c17c6507f448"
      },
      "execution_count": 170,
      "outputs": [
        {
          "output_type": "stream",
          "name": "stdout",
          "text": [
            "(5407, 49, 2)\n"
          ]
        }
      ]
    },
    {
      "cell_type": "code",
      "source": [
        "print(y)"
      ],
      "metadata": {
        "colab": {
          "base_uri": "https://localhost:8080/"
        },
        "id": "kTgVvJ4DQnHu",
        "outputId": "fb6c5ffc-20da-4bf9-c8f9-2c61efb95992"
      },
      "execution_count": 171,
      "outputs": [
        {
          "output_type": "stream",
          "name": "stdout",
          "text": [
            "[[21.266001]\n",
            " [21.612   ]\n",
            " [21.396   ]\n",
            " ...\n",
            " [93.540001]\n",
            " [92.639999]\n",
            " [91.970001]]\n"
          ]
        }
      ]
    },
    {
      "cell_type": "code",
      "source": [
        "print(y.shape)"
      ],
      "metadata": {
        "colab": {
          "base_uri": "https://localhost:8080/"
        },
        "id": "OAlKAl7vQ0O_",
        "outputId": "e6a06016-cbfb-4943-fad7-a1a1315dcc40"
      },
      "execution_count": 172,
      "outputs": [
        {
          "output_type": "stream",
          "name": "stdout",
          "text": [
            "(5407, 1)\n"
          ]
        }
      ]
    },
    {
      "cell_type": "code",
      "source": [
        "steps_per_epoch = math.ceil((len(ds_train) - sequence_len) / batch_size)\n",
        "print(steps_per_epoch)"
      ],
      "metadata": {
        "colab": {
          "base_uri": "https://localhost:8080/"
        },
        "id": "n8h7Oju_Tmf1",
        "outputId": "40ea5a68-2ba8-4489-abad-fb29d626d293"
      },
      "execution_count": 173,
      "outputs": [
        {
          "output_type": "stream",
          "name": "stdout",
          "text": [
            "169\n"
          ]
        }
      ]
    },
    {
      "cell_type": "code",
      "source": [
        "batch_size = 32"
      ],
      "metadata": {
        "id": "0nf48Acqk5k1"
      },
      "execution_count": 174,
      "outputs": []
    },
    {
      "cell_type": "code",
      "source": [
        "callbacks = [\n",
        "    EarlyStopping(monitor='val_loss', patience=2)\n",
        "]"
      ],
      "metadata": {
        "id": "QbBOSCWglHsv"
      },
      "execution_count": 175,
      "outputs": []
    },
    {
      "cell_type": "code",
      "source": [
        "callbacks = [\n",
        "    EarlyStopping(monitor='accuracy', patience=2)\n",
        "]"
      ],
      "metadata": {
        "id": "mmV55WRTlba7"
      },
      "execution_count": 176,
      "outputs": []
    },
    {
      "cell_type": "code",
      "source": [
        "model.fit(x, y, epochs=epochs, batch_size=batch_size, callbacks=callbacks)"
      ],
      "metadata": {
        "colab": {
          "base_uri": "https://localhost:8080/"
        },
        "id": "VCdF0DIOlhvl",
        "outputId": "f01ca829-2960-4646-c4af-271362f162cf"
      },
      "execution_count": 177,
      "outputs": [
        {
          "output_type": "stream",
          "name": "stdout",
          "text": [
            "Epoch 1/2\n",
            "169/169 [==============================] - 19s 86ms/step - loss: 1471.2639 - accuracy: 0.0000e+00\n",
            "Epoch 2/2\n",
            "169/169 [==============================] - 14s 85ms/step - loss: 780.1375 - accuracy: 0.0000e+00\n"
          ]
        },
        {
          "output_type": "execute_result",
          "data": {
            "text/plain": [
              "<keras.callbacks.History at 0x7f95758b7cd0>"
            ]
          },
          "metadata": {},
          "execution_count": 177
        }
      ]
    },
    {
      "cell_type": "code",
      "source": [
        "model.fit(x, y, epochs=epochs)"
      ],
      "metadata": {
        "colab": {
          "base_uri": "https://localhost:8080/"
        },
        "id": "nzjKpnVymGRp",
        "outputId": "44b92dc0-239a-4d27-f091-a0af8a13d8bf"
      },
      "execution_count": 178,
      "outputs": [
        {
          "output_type": "stream",
          "name": "stdout",
          "text": [
            "Epoch 1/2\n",
            "169/169 [==============================] - 15s 89ms/step - loss: 585.2607 - accuracy: 0.0000e+00\n",
            "Epoch 2/2\n",
            "169/169 [==============================] - 15s 87ms/step - loss: 538.7503 - accuracy: 0.0000e+00\n"
          ]
        },
        {
          "output_type": "execute_result",
          "data": {
            "text/plain": [
              "<keras.callbacks.History at 0x7f956f58df30>"
            ]
          },
          "metadata": {},
          "execution_count": 178
        }
      ]
    },
    {
      "cell_type": "code",
      "source": [
        "def get_test_data(sequence_len, normalize):\n",
        "  data_windows = []\n",
        "  for i in range(len(ds_test) - sequence_len):\n",
        "    data_windows.append(ds_test[i:i+sequence_len])\n",
        "  data_windows = np.array(data_windows).astype(float)\n",
        "  data_windows = normalize_window(data_windows, single_window=False) if normalize else data_windows\n",
        "\n",
        "  x = data_windows[:, :-1]\n",
        "  y = data_windows[:, -1, [0]]\n",
        "  return x, y"
      ],
      "metadata": {
        "id": "pYYs7abHmfcU"
      },
      "execution_count": 179,
      "outputs": []
    },
    {
      "cell_type": "code",
      "source": [
        "x_test, y_test = get_test_data(\n",
        "    sequence_len = sequence_len,\n",
        "    normalize=False\n",
        ")"
      ],
      "metadata": {
        "id": "id3x76KOnxv8"
      },
      "execution_count": 180,
      "outputs": []
    },
    {
      "cell_type": "code",
      "source": [
        "print('Test data shapes: ', x_test.shape, y_test.shape)"
      ],
      "metadata": {
        "colab": {
          "base_uri": "https://localhost:8080/"
        },
        "id": "1Zmcc9LqoPfE",
        "outputId": "d50299bf-ac07-4719-d645-f35e6323e05f"
      },
      "execution_count": 181,
      "outputs": [
        {
          "output_type": "stream",
          "name": "stdout",
          "text": [
            "Test data shapes:  (1315, 49, 2) (1315, 1)\n"
          ]
        }
      ]
    },
    {
      "cell_type": "code",
      "source": [
        "model.evaluate(x_test, y_test, verbose=2)"
      ],
      "metadata": {
        "colab": {
          "base_uri": "https://localhost:8080/"
        },
        "id": "Q4rNbQK_ofz8",
        "outputId": "c7ff3ff5-55ef-4853-a6b7-ac63a260af16"
      },
      "execution_count": 182,
      "outputs": [
        {
          "output_type": "stream",
          "name": "stdout",
          "text": [
            "42/42 - 2s - loss: nan - accuracy: 0.0000e+00 - 2s/epoch - 43ms/step\n"
          ]
        },
        {
          "output_type": "execute_result",
          "data": {
            "text/plain": [
              "[nan, 0.0]"
            ]
          },
          "metadata": {},
          "execution_count": 182
        }
      ]
    },
    {
      "cell_type": "code",
      "source": [
        "def get_last_data(sequence_len, normalize):\n",
        "  last_data = ds_test[sequence_len:]\n",
        "  data_windows = np.array(last_data).astype(float)\n",
        "  data_windows = normalize_window(data_windows, single_window=True) if normalize else data_windows\n",
        "  return data_windows"
      ],
      "metadata": {
        "id": "Gl0jtVpfpmbH"
      },
      "execution_count": 183,
      "outputs": []
    },
    {
      "cell_type": "code",
      "source": [
        "last_data_2_predict_prices = get_last_data(-(sequence_len - 1), False)\n",
        "last_data_2_predict_prices_1st_price = last_data_2_predict_prices[0][0]\n",
        "last_data_2_predict = get_last_data(-(sequence_len-1), False)\n",
        "print('---> ', -(sequence_len-1), last_data_2_predict.size, ' <---')"
      ],
      "metadata": {
        "colab": {
          "base_uri": "https://localhost:8080/"
        },
        "id": "9uiZPlZdqYTq",
        "outputId": "beb1bc69-4405-4d5c-84c2-bd2b72cf3e13"
      },
      "execution_count": 184,
      "outputs": [
        {
          "output_type": "stream",
          "name": "stdout",
          "text": [
            "--->  -49 98  <---\n"
          ]
        }
      ]
    },
    {
      "cell_type": "code",
      "source": [
        "last_data_2_predict_prices"
      ],
      "metadata": {
        "colab": {
          "base_uri": "https://localhost:8080/"
        },
        "id": "I8SCkJ1crSX7",
        "outputId": "bf82f36d-0ee8-4a16-eb07-87663e7f6d00"
      },
      "execution_count": 185,
      "outputs": [
        {
          "output_type": "execute_result",
          "data": {
            "text/plain": [
              "array([[           nan,            nan],\n",
              "       [1.02680000e+02, 1.02805000e+06],\n",
              "       [1.02320000e+02, 8.49011000e+05],\n",
              "       [1.03680000e+02, 8.46092000e+05],\n",
              "       [1.03199997e+02, 1.06152800e+06],\n",
              "       [1.04099998e+02, 9.80641000e+05],\n",
              "       [1.03779999e+02, 6.77742000e+05],\n",
              "       [1.00019997e+02, 2.03666300e+06],\n",
              "       [1.00599998e+02, 1.28057400e+06],\n",
              "       [1.01160004e+02, 6.37324000e+05],\n",
              "       [1.01440002e+02, 7.55354000e+05],\n",
              "       [1.01000000e+02, 8.50341000e+05],\n",
              "       [1.00639999e+02, 8.56419000e+05],\n",
              "       [1.01440002e+02, 1.48635000e+06],\n",
              "       [1.00580002e+02, 1.20049700e+06],\n",
              "       [1.01019997e+02, 9.56955000e+05],\n",
              "       [1.03800003e+02, 0.00000000e+00],\n",
              "       [1.07540001e+02, 1.69767300e+06],\n",
              "       [1.08919998e+02, 1.30478000e+06],\n",
              "       [1.08720001e+02, 1.13140900e+06],\n",
              "       [1.08720001e+02, 1.06363400e+06],\n",
              "       [1.08400002e+02, 1.87722800e+06],\n",
              "       [9.94100040e+01, 2.04903800e+06],\n",
              "       [1.00080002e+02, 1.00234600e+06],\n",
              "       [9.95700000e+01, 8.96963000e+05],\n",
              "       [1.00139999e+02, 7.39114000e+05],\n",
              "       [1.02500000e+02, 1.04193300e+06],\n",
              "       [1.03379997e+02, 1.37989100e+06],\n",
              "       [1.04040001e+02, 7.30024000e+05],\n",
              "       [           nan,            nan],\n",
              "       [1.02599998e+02, 1.16121800e+06],\n",
              "       [1.02779999e+02, 7.92753000e+05],\n",
              "       [1.04459999e+02, 9.84483000e+05],\n",
              "       [1.04400002e+02, 3.79423000e+05],\n",
              "       [1.04180000e+02, 6.68215000e+05],\n",
              "       [1.01919998e+02, 2.89293400e+06],\n",
              "       [           nan,            nan],\n",
              "       [1.06160004e+02, 1.35105800e+06],\n",
              "       [1.06440002e+02, 7.63837000e+05],\n",
              "       [1.06699997e+02, 6.60014000e+05],\n",
              "       [1.06879997e+02, 8.20752000e+05],\n",
              "       [1.07959999e+02, 9.50418000e+05],\n",
              "       [1.08080002e+02, 5.66274000e+05],\n",
              "       [           nan,            nan],\n",
              "       [           nan,            nan],\n",
              "       [1.12900002e+02, 9.37730000e+05],\n",
              "       [1.12519997e+02, 8.08875000e+05],\n",
              "       [1.11720001e+02, 2.59543100e+06],\n",
              "       [1.11019997e+02, 5.80786000e+05]])"
            ]
          },
          "metadata": {},
          "execution_count": 185
        }
      ]
    }
  ]
}