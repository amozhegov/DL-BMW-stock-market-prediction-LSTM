{
  "nbformat": 4,
  "nbformat_minor": 0,
  "metadata": {
    "colab": {
      "provenance": []
    },
    "kernelspec": {
      "name": "python3",
      "display_name": "Python 3"
    },
    "language_info": {
      "name": "python"
    }
  },
  "cells": [
    {
      "cell_type": "markdown",
      "source": [
        "Dataset source: https://finance.yahoo.com/quote/BMW.DE/history?period1=847411200&period2=1687219200&interval=1d&filter=history&frequency=1d&includeAdjustedClose=true\n",
        "\n",
        "Article source: https://www.altumintelligence.com/articles/a/Time-Series-Prediction-Using-LSTM-Deep-Neural-Networks"
      ],
      "metadata": {
        "id": "CPj9PJgo4VPq"
      }
    },
    {
      "cell_type": "markdown",
      "source": [
        "# Importing libraries"
      ],
      "metadata": {
        "id": "VZqfijX9UYas"
      }
    },
    {
      "cell_type": "code",
      "execution_count": 149,
      "metadata": {
        "id": "0mpI6D0QlYVr"
      },
      "outputs": [],
      "source": [
        "import pandas as pd\n",
        "import tensorflow as tf\n",
        "import numpy as np\n",
        "import matplotlib.pyplot as plt\n",
        "import math"
      ]
    },
    {
      "cell_type": "markdown",
      "source": [
        "# Data Preprocessing"
      ],
      "metadata": {
        "id": "Xs5-yXdKUfD-"
      }
    },
    {
      "cell_type": "code",
      "source": [
        "ds = pd.read_csv('BMW.DE.csv')"
      ],
      "metadata": {
        "id": "hOSov6JEzQW3"
      },
      "execution_count": 150,
      "outputs": []
    },
    {
      "cell_type": "code",
      "source": [
        "ds.head(5)"
      ],
      "metadata": {
        "colab": {
          "base_uri": "https://localhost:8080/",
          "height": 206
        },
        "id": "7uoM0_5_zc_4",
        "outputId": "82c2b8a0-ea5b-40cd-8ddf-9f73bdea5028"
      },
      "execution_count": 151,
      "outputs": [
        {
          "output_type": "execute_result",
          "data": {
            "text/plain": [
              "         Date       Open       High        Low      Close  Adj Close  \\\n",
              "0  1996-11-08  18.209999  18.209999  18.171000  18.171000   8.601855   \n",
              "1  1996-11-11  18.190001  18.200001  18.082001  18.122000   8.578660   \n",
              "2  1996-11-12  18.160999  18.327999  18.091999  18.259001   8.643515   \n",
              "3  1996-11-13  18.344000  18.344000  18.190001  18.230000   8.629785   \n",
              "4  1996-11-14  18.205000  18.289000  18.132000  18.289000   8.657717   \n",
              "\n",
              "      Volume  \n",
              "0   767000.0  \n",
              "1   260000.0  \n",
              "2  1066000.0  \n",
              "3   793000.0  \n",
              "4   351000.0  "
            ],
            "text/html": [
              "\n",
              "  <div id=\"df-89a119ab-2330-42e5-98ee-9c46cba7079f\">\n",
              "    <div class=\"colab-df-container\">\n",
              "      <div>\n",
              "<style scoped>\n",
              "    .dataframe tbody tr th:only-of-type {\n",
              "        vertical-align: middle;\n",
              "    }\n",
              "\n",
              "    .dataframe tbody tr th {\n",
              "        vertical-align: top;\n",
              "    }\n",
              "\n",
              "    .dataframe thead th {\n",
              "        text-align: right;\n",
              "    }\n",
              "</style>\n",
              "<table border=\"1\" class=\"dataframe\">\n",
              "  <thead>\n",
              "    <tr style=\"text-align: right;\">\n",
              "      <th></th>\n",
              "      <th>Date</th>\n",
              "      <th>Open</th>\n",
              "      <th>High</th>\n",
              "      <th>Low</th>\n",
              "      <th>Close</th>\n",
              "      <th>Adj Close</th>\n",
              "      <th>Volume</th>\n",
              "    </tr>\n",
              "  </thead>\n",
              "  <tbody>\n",
              "    <tr>\n",
              "      <th>0</th>\n",
              "      <td>1996-11-08</td>\n",
              "      <td>18.209999</td>\n",
              "      <td>18.209999</td>\n",
              "      <td>18.171000</td>\n",
              "      <td>18.171000</td>\n",
              "      <td>8.601855</td>\n",
              "      <td>767000.0</td>\n",
              "    </tr>\n",
              "    <tr>\n",
              "      <th>1</th>\n",
              "      <td>1996-11-11</td>\n",
              "      <td>18.190001</td>\n",
              "      <td>18.200001</td>\n",
              "      <td>18.082001</td>\n",
              "      <td>18.122000</td>\n",
              "      <td>8.578660</td>\n",
              "      <td>260000.0</td>\n",
              "    </tr>\n",
              "    <tr>\n",
              "      <th>2</th>\n",
              "      <td>1996-11-12</td>\n",
              "      <td>18.160999</td>\n",
              "      <td>18.327999</td>\n",
              "      <td>18.091999</td>\n",
              "      <td>18.259001</td>\n",
              "      <td>8.643515</td>\n",
              "      <td>1066000.0</td>\n",
              "    </tr>\n",
              "    <tr>\n",
              "      <th>3</th>\n",
              "      <td>1996-11-13</td>\n",
              "      <td>18.344000</td>\n",
              "      <td>18.344000</td>\n",
              "      <td>18.190001</td>\n",
              "      <td>18.230000</td>\n",
              "      <td>8.629785</td>\n",
              "      <td>793000.0</td>\n",
              "    </tr>\n",
              "    <tr>\n",
              "      <th>4</th>\n",
              "      <td>1996-11-14</td>\n",
              "      <td>18.205000</td>\n",
              "      <td>18.289000</td>\n",
              "      <td>18.132000</td>\n",
              "      <td>18.289000</td>\n",
              "      <td>8.657717</td>\n",
              "      <td>351000.0</td>\n",
              "    </tr>\n",
              "  </tbody>\n",
              "</table>\n",
              "</div>\n",
              "      <button class=\"colab-df-convert\" onclick=\"convertToInteractive('df-89a119ab-2330-42e5-98ee-9c46cba7079f')\"\n",
              "              title=\"Convert this dataframe to an interactive table.\"\n",
              "              style=\"display:none;\">\n",
              "        \n",
              "  <svg xmlns=\"http://www.w3.org/2000/svg\" height=\"24px\"viewBox=\"0 0 24 24\"\n",
              "       width=\"24px\">\n",
              "    <path d=\"M0 0h24v24H0V0z\" fill=\"none\"/>\n",
              "    <path d=\"M18.56 5.44l.94 2.06.94-2.06 2.06-.94-2.06-.94-.94-2.06-.94 2.06-2.06.94zm-11 1L8.5 8.5l.94-2.06 2.06-.94-2.06-.94L8.5 2.5l-.94 2.06-2.06.94zm10 10l.94 2.06.94-2.06 2.06-.94-2.06-.94-.94-2.06-.94 2.06-2.06.94z\"/><path d=\"M17.41 7.96l-1.37-1.37c-.4-.4-.92-.59-1.43-.59-.52 0-1.04.2-1.43.59L10.3 9.45l-7.72 7.72c-.78.78-.78 2.05 0 2.83L4 21.41c.39.39.9.59 1.41.59.51 0 1.02-.2 1.41-.59l7.78-7.78 2.81-2.81c.8-.78.8-2.07 0-2.86zM5.41 20L4 18.59l7.72-7.72 1.47 1.35L5.41 20z\"/>\n",
              "  </svg>\n",
              "      </button>\n",
              "      \n",
              "  <style>\n",
              "    .colab-df-container {\n",
              "      display:flex;\n",
              "      flex-wrap:wrap;\n",
              "      gap: 12px;\n",
              "    }\n",
              "\n",
              "    .colab-df-convert {\n",
              "      background-color: #E8F0FE;\n",
              "      border: none;\n",
              "      border-radius: 50%;\n",
              "      cursor: pointer;\n",
              "      display: none;\n",
              "      fill: #1967D2;\n",
              "      height: 32px;\n",
              "      padding: 0 0 0 0;\n",
              "      width: 32px;\n",
              "    }\n",
              "\n",
              "    .colab-df-convert:hover {\n",
              "      background-color: #E2EBFA;\n",
              "      box-shadow: 0px 1px 2px rgba(60, 64, 67, 0.3), 0px 1px 3px 1px rgba(60, 64, 67, 0.15);\n",
              "      fill: #174EA6;\n",
              "    }\n",
              "\n",
              "    [theme=dark] .colab-df-convert {\n",
              "      background-color: #3B4455;\n",
              "      fill: #D2E3FC;\n",
              "    }\n",
              "\n",
              "    [theme=dark] .colab-df-convert:hover {\n",
              "      background-color: #434B5C;\n",
              "      box-shadow: 0px 1px 3px 1px rgba(0, 0, 0, 0.15);\n",
              "      filter: drop-shadow(0px 1px 2px rgba(0, 0, 0, 0.3));\n",
              "      fill: #FFFFFF;\n",
              "    }\n",
              "  </style>\n",
              "\n",
              "      <script>\n",
              "        const buttonEl =\n",
              "          document.querySelector('#df-89a119ab-2330-42e5-98ee-9c46cba7079f button.colab-df-convert');\n",
              "        buttonEl.style.display =\n",
              "          google.colab.kernel.accessAllowed ? 'block' : 'none';\n",
              "\n",
              "        async function convertToInteractive(key) {\n",
              "          const element = document.querySelector('#df-89a119ab-2330-42e5-98ee-9c46cba7079f');\n",
              "          const dataTable =\n",
              "            await google.colab.kernel.invokeFunction('convertToInteractive',\n",
              "                                                     [key], {});\n",
              "          if (!dataTable) return;\n",
              "\n",
              "          const docLinkHtml = 'Like what you see? Visit the ' +\n",
              "            '<a target=\"_blank\" href=https://colab.research.google.com/notebooks/data_table.ipynb>data table notebook</a>'\n",
              "            + ' to learn more about interactive tables.';\n",
              "          element.innerHTML = '';\n",
              "          dataTable['output_type'] = 'display_data';\n",
              "          await google.colab.output.renderOutput(dataTable, element);\n",
              "          const docLink = document.createElement('div');\n",
              "          docLink.innerHTML = docLinkHtml;\n",
              "          element.appendChild(docLink);\n",
              "        }\n",
              "      </script>\n",
              "    </div>\n",
              "  </div>\n",
              "  "
            ]
          },
          "metadata": {},
          "execution_count": 151
        }
      ]
    },
    {
      "cell_type": "code",
      "source": [
        "print(ds.shape)"
      ],
      "metadata": {
        "colab": {
          "base_uri": "https://localhost:8080/"
        },
        "id": "5xAe9s5jAuyl",
        "outputId": "b1262c2c-5304-47cf-bc03-aa31d55f68fc"
      },
      "execution_count": 152,
      "outputs": [
        {
          "output_type": "stream",
          "name": "stdout",
          "text": [
            "(6821, 7)\n"
          ]
        }
      ]
    },
    {
      "cell_type": "code",
      "source": [
        "print(ds.columns)"
      ],
      "metadata": {
        "colab": {
          "base_uri": "https://localhost:8080/"
        },
        "id": "ODVQe364BHAm",
        "outputId": "fb7e90b2-250f-4bc8-ec65-4b9227622a76"
      },
      "execution_count": 153,
      "outputs": [
        {
          "output_type": "stream",
          "name": "stdout",
          "text": [
            "Index(['Date', 'Open', 'High', 'Low', 'Close', 'Adj Close', 'Volume'], dtype='object')\n"
          ]
        }
      ]
    },
    {
      "cell_type": "code",
      "source": [
        "print(ds['Date'])"
      ],
      "metadata": {
        "colab": {
          "base_uri": "https://localhost:8080/"
        },
        "id": "fkU2nkyECan9",
        "outputId": "c45f5d4b-15f6-4360-cf35-78d7723ff86e"
      },
      "execution_count": 154,
      "outputs": [
        {
          "output_type": "stream",
          "name": "stdout",
          "text": [
            "0       1996-11-08\n",
            "1       1996-11-11\n",
            "2       1996-11-12\n",
            "3       1996-11-13\n",
            "4       1996-11-14\n",
            "           ...    \n",
            "6816    2023-06-13\n",
            "6817    2023-06-14\n",
            "6818    2023-06-15\n",
            "6819    2023-06-16\n",
            "6820    2023-06-19\n",
            "Name: Date, Length: 6821, dtype: object\n"
          ]
        }
      ]
    },
    {
      "cell_type": "markdown",
      "source": [
        "# Data Splitting"
      ],
      "metadata": {
        "id": "0vMqZ5VrX-p7"
      }
    },
    {
      "cell_type": "code",
      "source": [
        "# Split Dataset 80/20 for train/test\n",
        "train_test_split = int(len(ds) * 0.8)\n",
        "columns = ['Close', 'Volume']\n",
        "ds_train = ds.get(columns).values[:train_test_split]\n",
        "ds_test = ds.get(columns).values[train_test_split:]\n",
        "print(len(ds), len(ds_train), len(ds_test))"
      ],
      "metadata": {
        "colab": {
          "base_uri": "https://localhost:8080/"
        },
        "id": "AscXFOmcKLVO",
        "outputId": "c4064d38-60d6-46c3-ca9d-3c05fd2f3ad7"
      },
      "execution_count": 155,
      "outputs": [
        {
          "output_type": "stream",
          "name": "stdout",
          "text": [
            "6821 5456 1365\n"
          ]
        }
      ]
    },
    {
      "cell_type": "markdown",
      "source": [
        "5456 train samples\n",
        "\n",
        "1365 test samples"
      ],
      "metadata": {
        "id": "ePbQQ_ykT1yg"
      }
    },
    {
      "cell_type": "code",
      "source": [
        "ds_train.shape"
      ],
      "metadata": {
        "colab": {
          "base_uri": "https://localhost:8080/"
        },
        "id": "816Jyg9JUvDw",
        "outputId": "6102c9c7-d7b3-4c57-9bf2-40e22dfd3af5"
      },
      "execution_count": 156,
      "outputs": [
        {
          "output_type": "execute_result",
          "data": {
            "text/plain": [
              "(5456, 2)"
            ]
          },
          "metadata": {},
          "execution_count": 156
        }
      ]
    },
    {
      "cell_type": "code",
      "source": [
        "ds_test.shape"
      ],
      "metadata": {
        "colab": {
          "base_uri": "https://localhost:8080/"
        },
        "id": "3nm3fa8eUxPv",
        "outputId": "7a6d6655-3594-4a67-d83e-d7fe92e3e5b0"
      },
      "execution_count": 157,
      "outputs": [
        {
          "output_type": "execute_result",
          "data": {
            "text/plain": [
              "(1365, 2)"
            ]
          },
          "metadata": {},
          "execution_count": 157
        }
      ]
    },
    {
      "cell_type": "markdown",
      "source": [
        "# Model Training"
      ],
      "metadata": {
        "id": "qf_js-pBYa98"
      }
    },
    {
      "cell_type": "code",
      "source": [
        "# 50 elements = 49 + 1 (element to predict)\n",
        "sequence_len = 50\n",
        "input_dim = 2\n",
        "batch_size = 32\n",
        "epochs = 2"
      ],
      "metadata": {
        "id": "fty-8pHHWXqE"
      },
      "execution_count": 158,
      "outputs": []
    },
    {
      "cell_type": "markdown",
      "source": [
        "# Neural Network Composition:\n",
        "\n",
        "First layer:\n",
        "1. LSTM\n",
        "2. 100 neurons\n",
        "3. input_timesteps = 49\n",
        "4. input_dim = 2\n",
        "5. return_seq = True\n",
        "\n",
        "Second Layer:\n",
        "1. Dropout\n",
        "2. rate = 0.2\n",
        "\n",
        "Third Layer:\n",
        "1. LSTM\n",
        "2. 100 neurons\n",
        "3. return_seq = True\n",
        "\n",
        "Fourth Layer:\n",
        "1. LSTM\n",
        "2. 100 neurons\n",
        "3. return_seq = False\n",
        "\n",
        "Fifth Layer:\n",
        "1. Dropout\n",
        "2. rate = 0.2\n",
        "\n",
        "Sixth Layer:\n",
        "1. Dense\n",
        "2. 1 neuron\n",
        "3. activation = linear\n",
        "\n",
        "\n"
      ],
      "metadata": {
        "id": "G4UqSZSZYpjJ"
      }
    },
    {
      "cell_type": "code",
      "source": [
        "model = tf.keras.Sequential([\n",
        "    tf.keras.layers.LSTM(100, input_shape=(sequence_len-1, input_dim), return_sequences=True),\n",
        "    # Dropout to prevent overfitting and improve the generalization of the model\n",
        "    tf.keras.layers.Dropout(0.2),\n",
        "    tf.keras.layers.LSTM(100, return_sequences=True),\n",
        "    tf.keras.layers.LSTM(100, return_sequences=False),\n",
        "    tf.keras.layers.Dropout(0.2),\n",
        "    tf.keras.layers.Dense(1, activation='linear')\n",
        "])"
      ],
      "metadata": {
        "id": "gEaTWMhtXxo5"
      },
      "execution_count": 159,
      "outputs": []
    },
    {
      "cell_type": "code",
      "source": [
        "model.summary()"
      ],
      "metadata": {
        "colab": {
          "base_uri": "https://localhost:8080/"
        },
        "id": "mVJHyi0-c39V",
        "outputId": "79fc8367-1ee5-4e7f-e31f-8999c7bc9863"
      },
      "execution_count": 160,
      "outputs": [
        {
          "output_type": "stream",
          "name": "stdout",
          "text": [
            "Model: \"sequential_7\"\n",
            "_________________________________________________________________\n",
            " Layer (type)                Output Shape              Param #   \n",
            "=================================================================\n",
            " lstm_22 (LSTM)              (None, 49, 100)           41200     \n",
            "                                                                 \n",
            " dropout_15 (Dropout)        (None, 49, 100)           0         \n",
            "                                                                 \n",
            " lstm_23 (LSTM)              (None, 49, 100)           80400     \n",
            "                                                                 \n",
            " lstm_24 (LSTM)              (None, 100)               80400     \n",
            "                                                                 \n",
            " dropout_16 (Dropout)        (None, 100)               0         \n",
            "                                                                 \n",
            " dense_7 (Dense)             (None, 1)                 101       \n",
            "                                                                 \n",
            "=================================================================\n",
            "Total params: 202,101\n",
            "Trainable params: 202,101\n",
            "Non-trainable params: 0\n",
            "_________________________________________________________________\n"
          ]
        }
      ]
    },
    {
      "cell_type": "code",
      "source": [
        "tf.keras.utils.plot_model(model, show_shapes=True)"
      ],
      "metadata": {
        "colab": {
          "base_uri": "https://localhost:8080/",
          "height": 754
        },
        "id": "z98PHZ87fNly",
        "outputId": "092aa0c7-04e1-4302-8b91-8187c58096e0"
      },
      "execution_count": 161,
      "outputs": [
        {
          "output_type": "execute_result",
          "data": {
            "image/png": "[encoded data removed]",
            "text/plain": [
              "<IPython.core.display.Image object>"
            ]
          },
          "metadata": {},
          "execution_count": 161
        }
      ]
    },
    {
      "cell_type": "code",
      "source": [
        "# Model Compilation\n",
        "model.compile(optimizer='adam',\n",
        "              loss=tf.keras.losses.MeanSquaredError(),\n",
        "              metrics=['accuracy'])"
      ],
      "metadata": {
        "id": "5aba9DLWf8RZ"
      },
      "execution_count": 162,
      "outputs": []
    },
    {
      "cell_type": "code",
      "source": [
        "model.compile(optimizer='adam',\n",
        "              loss='mse')"
      ],
      "metadata": {
        "id": "pGlwzIr7zPJ0"
      },
      "execution_count": 163,
      "outputs": []
    },
    {
      "cell_type": "code",
      "source": [
        "model.compile(optimizer='adam',\n",
        "              loss='mse',\n",
        "              metrics=['accuracy'])"
      ],
      "metadata": {
        "id": "v4O-Fge8zUiC"
      },
      "execution_count": 164,
      "outputs": []
    },
    {
      "cell_type": "code",
      "source": [
        "def normalize_window(window_data, single_window=False):\n",
        "  # Window normalization with a base value of zero\n",
        "  normalized_data = []\n",
        "  window_data = [window_data] if single_window else window_data\n",
        "  for window in window_data:\n",
        "    normalized_window = []\n",
        "    for column_i in range(window.shape[1]):\n",
        "      normalized_col = [((float(p) / float(window[0, column_i])) - 1) for p in window[:, column_i]]\n",
        "      normalized_window.append(normalized_col)\n",
        "    normalized_window = np.array(normalized_window)\n",
        "    normalized_data.append(normalized_window)\n",
        "  return np.array(normalized_data)"
      ],
      "metadata": {
        "id": "yUIVRlpIEX7W"
      },
      "execution_count": 165,
      "outputs": []
    },
    {
      "cell_type": "code",
      "source": [
        "def next_window(i, sequence_len, normalize):\n",
        "  window = ds_train[i:i+sequence_len]\n",
        "  window = normalize_window(window, single_window=True)[0] if normalize else window\n",
        "  x = window[:-1]\n",
        "  y = window[-1, [0]]\n",
        "  return x, y"
      ],
      "metadata": {
        "id": "_rgSGpXWIgo4"
      },
      "execution_count": 166,
      "outputs": []
    },
    {
      "cell_type": "code",
      "source": [
        "def get_train_data(sequence_len, normalize):\n",
        "  # Creates x, y train_data windows\n",
        "  data_x = []\n",
        "  data_y = []\n",
        "  for i in range(len(ds_train) - sequence_len + 1):\n",
        "    x, y = next_window(i, sequence_len, normalize)\n",
        "    data_x.append(x)\n",
        "    data_y.append(y)\n",
        "  return np.array(data_x), np.array(data_y)"
      ],
      "metadata": {
        "id": "Jkf_kGPhLNaN"
      },
      "execution_count": 167,
      "outputs": []
    },
    {
      "cell_type": "code",
      "source": [
        "x, y = get_train_data(\n",
        "    sequence_len=sequence_len,\n",
        "    normalize=False\n",
        ")"
      ],
      "metadata": {
        "id": "s32FDK7lPrRV"
      },
      "execution_count": 168,
      "outputs": []
    },
    {
      "cell_type": "code",
      "source": [
        "print(x)"
      ],
      "metadata": {
        "colab": {
          "base_uri": "https://localhost:8080/"
        },
        "id": "pCZZiyTHQjjb",
        "outputId": "3b055698-b603-48eb-e3d4-5f23671213ca"
      },
      "execution_count": 169,
      "outputs": [
        {
          "output_type": "stream",
          "name": "stdout",
          "text": [
            "[[[1.8171000e+01 7.6700000e+05]\n",
            "  [1.8122000e+01 2.6000000e+05]\n",
            "  [1.8259001e+01 1.0660000e+06]\n",
            "  ...\n",
            "  [2.1218000e+01 6.5000000e+05]\n",
            "  [2.1927000e+01 1.0400000e+06]\n",
            "  [2.1514000e+01 7.5400000e+05]]\n",
            "\n",
            " [[1.8122000e+01 2.6000000e+05]\n",
            "  [1.8259001e+01 1.0660000e+06]\n",
            "  [1.8230000e+01 7.9300000e+05]\n",
            "  ...\n",
            "  [2.1927000e+01 1.0400000e+06]\n",
            "  [2.1514000e+01 7.5400000e+05]\n",
            "  [2.1266001e+01 3.5100000e+05]]\n",
            "\n",
            " [[1.8259001e+01 1.0660000e+06]\n",
            "  [1.8230000e+01 7.9300000e+05]\n",
            "  [1.8289000e+01 3.5100000e+05]\n",
            "  ...\n",
            "  [2.1514000e+01 7.5400000e+05]\n",
            "  [2.1266001e+01 3.5100000e+05]\n",
            "  [2.1612000e+01 1.3130000e+06]]\n",
            "\n",
            " ...\n",
            "\n",
            " [[8.5330002e+01 1.1068800e+06]\n",
            "  [8.4930000e+01 1.1845400e+06]\n",
            "  [8.5180000e+01 1.3763550e+06]\n",
            "  ...\n",
            "  [9.4349998e+01 1.7495760e+06]\n",
            "  [9.3250000e+01 2.7049830e+06]\n",
            "  [9.3830002e+01 1.4760050e+06]]\n",
            "\n",
            " [[8.4930000e+01 1.1845400e+06]\n",
            "  [8.5180000e+01 1.3763550e+06]\n",
            "  [8.6779999e+01 2.2353390e+06]\n",
            "  ...\n",
            "  [9.3250000e+01 2.7049830e+06]\n",
            "  [9.3830002e+01 1.4760050e+06]\n",
            "  [9.3540001e+01 1.1657110e+06]]\n",
            "\n",
            " [[8.5180000e+01 1.3763550e+06]\n",
            "  [8.6779999e+01 2.2353390e+06]\n",
            "  [8.6580002e+01 1.3782240e+06]\n",
            "  ...\n",
            "  [9.3830002e+01 1.4760050e+06]\n",
            "  [9.3540001e+01 1.1657110e+06]\n",
            "  [9.2639999e+01 2.0468510e+06]]]\n"
          ]
        }
      ]
    },
    {
      "cell_type": "code",
      "source": [
        "print(x.shape)"
      ],
      "metadata": {
        "colab": {
          "base_uri": "https://localhost:8080/"
        },
        "id": "nfwwvRymQvdG",
        "outputId": "1c033379-857c-4504-ece2-b38fc69d8a10"
      },
      "execution_count": 170,
      "outputs": [
        {
          "output_type": "stream",
          "name": "stdout",
          "text": [
            "(5407, 49, 2)\n"
          ]
        }
      ]
    },
    {
      "cell_type": "code",
      "source": [
        "print(y)"
      ],
      "metadata": {
        "colab": {
          "base_uri": "https://localhost:8080/"
        },
        "id": "kTgVvJ4DQnHu",
        "outputId": "28be740c-010e-445f-efd3-3db15cfd5ea9"
      },
      "execution_count": 171,
      "outputs": [
        {
          "output_type": "stream",
          "name": "stdout",
          "text": [
            "[[21.266001]\n",
            " [21.612   ]\n",
            " [21.396   ]\n",
            " ...\n",
            " [93.540001]\n",
            " [92.639999]\n",
            " [91.970001]]\n"
          ]
        }
      ]
    },
    {
      "cell_type": "code",
      "source": [
        "print(y.shape)"
      ],
      "metadata": {
        "colab": {
          "base_uri": "https://localhost:8080/"
        },
        "id": "OAlKAl7vQ0O_",
        "outputId": "589575c0-5be5-4326-fd64-b8a781bc6391"
      },
      "execution_count": 172,
      "outputs": [
        {
          "output_type": "stream",
          "name": "stdout",
          "text": [
            "(5407, 1)\n"
          ]
        }
      ]
    },
    {
      "cell_type": "code",
      "source": [
        "steps_per_epoch = math.ceil((len(ds_train) - sequence_len) / batch_size)\n",
        "print(steps_per_epoch)"
      ],
      "metadata": {
        "colab": {
          "base_uri": "https://localhost:8080/"
        },
        "id": "n8h7Oju_Tmf1",
        "outputId": "945a3743-ae82-4a44-f00d-ed1e551e80d0"
      },
      "execution_count": 173,
      "outputs": [
        {
          "output_type": "stream",
          "name": "stdout",
          "text": [
            "169\n"
          ]
        }
      ]
    }
  ]
}